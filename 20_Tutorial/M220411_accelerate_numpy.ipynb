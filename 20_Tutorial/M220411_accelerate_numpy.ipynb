{
 "cells": [
  {
   "cell_type": "markdown",
   "id": "ad155f55-bb0d-4b58-ae41-7bb2bdefccbe",
   "metadata": {},
   "source": [
    "<p style=\"font-size:200%;font-weight:bold\">加速Numpy</p>\n",
    "\n",
    "- 作者：丁文治\n",
    "- 日期：2022年4月2日\n",
    "\n",
    "This is simply testing codes from (maybe the author of Pandas, but I lost the source. Please let me know if you know who write that post...)."
   ]
  },
  {
   "cell_type": "code",
   "execution_count": 10,
   "id": "9a92379e-309e-4e12-8271-3a824684272d",
   "metadata": {},
   "outputs": [
    {
     "name": "stdout",
     "output_type": "stream",
     "text": [
      "INFO: Pandarallel will run on 24 workers.\n",
      "INFO: Pandarallel will use Memory file system to transfer data between the main process and workers.\n"
     ]
    }
   ],
   "source": [
    "import dask.dataframe as dd\n",
    "import pandas as pd\n",
    "import swifter\n",
    "import numpy as np\n",
    "import numba\n",
    "from sklearn.linear_model import LinearRegression\n",
    "from pandarallel import pandarallel\n",
    "\n",
    "pandarallel.initialize(progress_bar=False)"
   ]
  },
  {
   "cell_type": "markdown",
   "id": "644177b4-2524-4583-a2a4-79bb9e138662",
   "metadata": {},
   "source": [
    "# 生成数据"
   ]
  },
  {
   "cell_type": "code",
   "execution_count": 2,
   "id": "b7001c98-65dc-4e5b-b52b-26e774f9b8ab",
   "metadata": {},
   "outputs": [
    {
     "data": {
      "text/plain": [
       "(1000, 14)"
      ]
     },
     "execution_count": 2,
     "metadata": {},
     "output_type": "execute_result"
    },
    {
     "data": {
      "text/html": [
       "<div>\n",
       "<style scoped>\n",
       "    .dataframe tbody tr th:only-of-type {\n",
       "        vertical-align: middle;\n",
       "    }\n",
       "\n",
       "    .dataframe tbody tr th {\n",
       "        vertical-align: top;\n",
       "    }\n",
       "\n",
       "    .dataframe thead th {\n",
       "        text-align: right;\n",
       "    }\n",
       "</style>\n",
       "<table border=\"1\" class=\"dataframe\">\n",
       "  <thead>\n",
       "    <tr style=\"text-align: right;\">\n",
       "      <th></th>\n",
       "      <th>0</th>\n",
       "      <th>1</th>\n",
       "      <th>2</th>\n",
       "      <th>3</th>\n",
       "      <th>4</th>\n",
       "      <th>5</th>\n",
       "      <th>6</th>\n",
       "      <th>7</th>\n",
       "      <th>8</th>\n",
       "      <th>9</th>\n",
       "      <th>10</th>\n",
       "      <th>11</th>\n",
       "      <th>12</th>\n",
       "      <th>13</th>\n",
       "    </tr>\n",
       "  </thead>\n",
       "  <tbody>\n",
       "    <tr>\n",
       "      <th>0</th>\n",
       "      <td>0.763338</td>\n",
       "      <td>0.713509</td>\n",
       "      <td>0.195882</td>\n",
       "      <td>0.495666</td>\n",
       "      <td>0.624177</td>\n",
       "      <td>0.585234</td>\n",
       "      <td>0.404490</td>\n",
       "      <td>0.263616</td>\n",
       "      <td>0.404135</td>\n",
       "      <td>0.531574</td>\n",
       "      <td>0.183177</td>\n",
       "      <td>0.810131</td>\n",
       "      <td>0.647456</td>\n",
       "      <td>0.302777</td>\n",
       "    </tr>\n",
       "    <tr>\n",
       "      <th>1</th>\n",
       "      <td>0.434267</td>\n",
       "      <td>0.392337</td>\n",
       "      <td>0.963468</td>\n",
       "      <td>0.004680</td>\n",
       "      <td>0.836850</td>\n",
       "      <td>0.850738</td>\n",
       "      <td>0.579568</td>\n",
       "      <td>0.321746</td>\n",
       "      <td>0.991330</td>\n",
       "      <td>0.303824</td>\n",
       "      <td>0.290518</td>\n",
       "      <td>0.879694</td>\n",
       "      <td>0.886661</td>\n",
       "      <td>0.622307</td>\n",
       "    </tr>\n",
       "    <tr>\n",
       "      <th>2</th>\n",
       "      <td>0.102800</td>\n",
       "      <td>0.879397</td>\n",
       "      <td>0.225718</td>\n",
       "      <td>0.516140</td>\n",
       "      <td>0.695354</td>\n",
       "      <td>0.815830</td>\n",
       "      <td>0.755212</td>\n",
       "      <td>0.862049</td>\n",
       "      <td>0.727086</td>\n",
       "      <td>0.786461</td>\n",
       "      <td>0.427140</td>\n",
       "      <td>0.415951</td>\n",
       "      <td>0.924709</td>\n",
       "      <td>0.804058</td>\n",
       "    </tr>\n",
       "  </tbody>\n",
       "</table>\n",
       "</div>"
      ],
      "text/plain": [
       "         0         1         2         3         4         5         6   \\\n",
       "0  0.763338  0.713509  0.195882  0.495666  0.624177  0.585234  0.404490   \n",
       "1  0.434267  0.392337  0.963468  0.004680  0.836850  0.850738  0.579568   \n",
       "2  0.102800  0.879397  0.225718  0.516140  0.695354  0.815830  0.755212   \n",
       "\n",
       "         7         8         9         10        11        12        13  \n",
       "0  0.263616  0.404135  0.531574  0.183177  0.810131  0.647456  0.302777  \n",
       "1  0.321746  0.991330  0.303824  0.290518  0.879694  0.886661  0.622307  \n",
       "2  0.862049  0.727086  0.786461  0.427140  0.415951  0.924709  0.804058  "
      ]
     },
     "execution_count": 2,
     "metadata": {},
     "output_type": "execute_result"
    }
   ],
   "source": [
    "df = pd.DataFrame(np.random.random([1_000, 14]))\n",
    "df.shape\n",
    "df.head(3)"
   ]
  },
  {
   "cell_type": "markdown",
   "id": "48966eb1-411c-427d-a879-78024f5791b2",
   "metadata": {},
   "source": [
    "# 定义函数"
   ]
  },
  {
   "cell_type": "code",
   "execution_count": 5,
   "id": "c4ca5912-9ca9-4cb9-805e-f88a358b1dca",
   "metadata": {},
   "outputs": [],
   "source": [
    "def ols_sklearn(row):\n",
    "    est = LinearRegression()\n",
    "    X =np.arange(row.shape[0]).reshape(-1, 1)\n",
    "    est.fit(X, row.values)\n",
    "    m = est.coef_[0]\n",
    "    return m\n",
    "\n",
    "\n",
    "def ols_sklearn_raw(row):\n",
    "    est = LinearRegression()\n",
    "    X =np.arange(row.shape[0]).reshape(-1, 1)\n",
    "    est.fit(X, row)\n",
    "    m = est.coef_[0]\n",
    "    return m\n",
    "\n",
    "\n",
    "def ols_lstsq(row):\n",
    "    X =np.arange(row.shape[0])\n",
    "    ones = np.ones(row.shape[0])\n",
    "    A = np.vstack((X, ones)).T\n",
    "    m, c = np.linalg.lstsq(A, row.values, rcond=-1)[0]\n",
    "    return m\n",
    "\n",
    "\n",
    "def ols_lstsq_raw(row):\n",
    "    X =np.arange(row.shape[0])\n",
    "    ones = np.ones(row.shape[0])\n",
    "    A = np.vstack((X, ones)).T\n",
    "    m, c = np.linalg.lstsq(A, row, rcond=-1)[0]\n",
    "    return m\n",
    "\n",
    "\n",
    "@numba.jit(nopython=True)\n",
    "def ols_lstsq_raw_numba(row):\n",
    "    X =np.arange(row.shape[0])\n",
    "    ones = np.ones(row.shape[0])\n",
    "    A = np.vstack((X, ones)).T\n",
    "    m, c = np.linalg.lstsq(A, row, rcond=-1)[0]\n",
    "    return m\n",
    "\n",
    "ms = df[:1].apply(ols_lstsq_raw_numba, axis=1, raw=True)  # Precompile Numba"
   ]
  },
  {
   "cell_type": "markdown",
   "id": "d4b1fa6b-d2e6-4d0b-885b-815251f45514",
   "metadata": {},
   "source": [
    "# 测试速度"
   ]
  },
  {
   "cell_type": "markdown",
   "id": "e86e8cc4-d6d7-4aab-a6a7-921cf419a5f5",
   "metadata": {},
   "source": [
    "## NumPy + iloc"
   ]
  },
  {
   "cell_type": "code",
   "execution_count": 11,
   "id": "e6bcab9f-9304-42cc-ba35-1c603ef38b1a",
   "metadata": {},
   "outputs": [
    {
     "name": "stdout",
     "output_type": "stream",
     "text": [
      "74.1 ms ± 2.99 ms per loop (mean ± std. dev. of 7 runs, 10 loops each)\n"
     ]
    }
   ],
   "source": [
    "%%timeit\n",
    "\n",
    "ms = []\n",
    "\n",
    "for row_idx in range(df.shape[0]):\n",
    "    row = df.iloc[row_idx]\n",
    "    m = ols_lstsq(row)\n",
    "    ms.append(m)\n",
    "result_iloc = pd.Series(ms)"
   ]
  },
  {
   "cell_type": "markdown",
   "id": "bdfe7a0a-785e-4b87-8f74-914fe91720c6",
   "metadata": {},
   "source": [
    "## NumPy + iterrows"
   ]
  },
  {
   "cell_type": "code",
   "execution_count": 12,
   "id": "312657ab-0ee7-4218-9a5d-13127667dea7",
   "metadata": {},
   "outputs": [
    {
     "name": "stdout",
     "output_type": "stream",
     "text": [
      "58.5 ms ± 2.85 ms per loop (mean ± std. dev. of 7 runs, 10 loops each)\n"
     ]
    }
   ],
   "source": [
    "%%timeit\n",
    "\n",
    "ms = []\n",
    "\n",
    "for row_idx, row in df.iterrows():\n",
    "    m = ols_lstsq(row)\n",
    "    ms.append(m)\n",
    "result_iterrows = pd.Series(ms)"
   ]
  },
  {
   "cell_type": "markdown",
   "id": "e048e0d6-93ab-47c5-89b9-6474aa31712e",
   "metadata": {},
   "source": [
    "## NumPy + apply"
   ]
  },
  {
   "cell_type": "code",
   "execution_count": 13,
   "id": "c68541ec-d320-4ec9-97e0-186cc7db6f67",
   "metadata": {},
   "outputs": [
    {
     "name": "stdout",
     "output_type": "stream",
     "text": [
      "36.7 ms ± 3.43 ms per loop (mean ± std. dev. of 7 runs, 10 loops each)\n"
     ]
    }
   ],
   "source": [
    "%%timeit\n",
    "\n",
    "ms = df.apply(ols_lstsq, axis=1)\n",
    "result_apply = pd.Series(ms)"
   ]
  },
  {
   "cell_type": "markdown",
   "id": "a9035731-4eb9-4dc3-8305-209e1febc147",
   "metadata": {},
   "source": [
    "## NumPy + apply (raw=True)"
   ]
  },
  {
   "cell_type": "code",
   "execution_count": 15,
   "id": "b2a4c0e4-f8eb-4262-8fba-d0330fdeb5d0",
   "metadata": {},
   "outputs": [
    {
     "name": "stdout",
     "output_type": "stream",
     "text": [
      "29.8 ms ± 2.77 ms per loop (mean ± std. dev. of 7 runs, 10 loops each)\n"
     ]
    }
   ],
   "source": [
    "%%timeit\n",
    "\n",
    "ms = df.apply(ols_lstsq_raw, axis=1, raw=True)\n",
    "result_apply_raw = pd.Series(ms)"
   ]
  },
  {
   "cell_type": "markdown",
   "id": "a44a020f-3d1e-4c9b-8745-0e5c403936e0",
   "metadata": {},
   "source": [
    "## NumPy + swifter + apply (raw=True)"
   ]
  },
  {
   "cell_type": "code",
   "execution_count": 18,
   "id": "da7f50c5-6604-4b9a-9346-467b74765818",
   "metadata": {},
   "outputs": [
    {
     "name": "stdout",
     "output_type": "stream",
     "text": [
      "38.8 ms ± 133 µs per loop (mean ± std. dev. of 7 runs, 10 loops each)\n"
     ]
    }
   ],
   "source": [
    "%%timeit\n",
    "\n",
    "ms = df.swifter.progress_bar(False).apply(ols_lstsq_raw, axis=1, raw=True)\n",
    "result_apply_raw_swifter = pd.Series(ms)"
   ]
  },
  {
   "cell_type": "markdown",
   "id": "83c59ddb-db93-4ca6-b5d3-4720d5d3ab73",
   "metadata": {},
   "source": [
    "## Numba + apply (raw=True)"
   ]
  },
  {
   "cell_type": "code",
   "execution_count": 21,
   "id": "7a614476-7041-4b8a-ac4c-cd7ff8a888ce",
   "metadata": {},
   "outputs": [
    {
     "name": "stdout",
     "output_type": "stream",
     "text": [
      "5.36 ms ± 17.4 µs per loop (mean ± std. dev. of 7 runs, 100 loops each)\n"
     ]
    }
   ],
   "source": [
    "%%timeit\n",
    "\n",
    "ms = df.apply(ols_lstsq_raw_numba, axis=1, raw=True)\n",
    "result_apply_raw_numba = pd.Series(ms)"
   ]
  },
  {
   "cell_type": "markdown",
   "id": "bae728e2-324d-49ac-b7c8-8400e68821fa",
   "metadata": {},
   "source": [
    "## Numba + Dask + apply (raw=True)"
   ]
  },
  {
   "cell_type": "code",
   "execution_count": 4,
   "id": "9f8d4caf-a386-44df-bc58-80282c24b326",
   "metadata": {},
   "outputs": [
    {
     "name": "stdout",
     "output_type": "stream",
     "text": [
      "2.67 s ± 52.8 ms per loop (mean ± std. dev. of 7 runs, 1 loop each)\n"
     ]
    }
   ],
   "source": [
    "%%timeit\n",
    "\n",
    "ddf = dd.from_pandas(df, npartitions=8, sort=False)\n",
    "\n",
    "result_apply_raw_numba_dask = ddf.apply(ols_lstsq_raw_numba, axis=1, raw=True, meta=(None, 'float64',)).compute(scheduler='processes')"
   ]
  },
  {
   "cell_type": "markdown",
   "id": "10f4d29a-2c84-409d-8243-42bb85a5c454",
   "metadata": {},
   "source": [
    "## Sklearn + apply"
   ]
  },
  {
   "cell_type": "code",
   "execution_count": 11,
   "id": "0f55be5b-17eb-449b-9521-57d3c5abee62",
   "metadata": {},
   "outputs": [
    {
     "name": "stdout",
     "output_type": "stream",
     "text": [
      "183 ms ± 3.86 ms per loop (mean ± std. dev. of 7 runs, 1 loop each)\n"
     ]
    }
   ],
   "source": [
    "%%timeit\n",
    "\n",
    "ms = df.apply(ols_sklearn, axis=1)\n",
    "result = pd.Series(ms)"
   ]
  },
  {
   "cell_type": "markdown",
   "id": "5aecedd8-d73c-4c6d-8431-da79aee5bf5e",
   "metadata": {},
   "source": [
    "## Sklearn + apply (raw=True)"
   ]
  },
  {
   "cell_type": "code",
   "execution_count": 6,
   "id": "3ef1d79b-e4dd-4f2d-af4f-215972614686",
   "metadata": {},
   "outputs": [
    {
     "name": "stdout",
     "output_type": "stream",
     "text": [
      "173 ms ± 2.73 ms per loop (mean ± std. dev. of 7 runs, 10 loops each)\n"
     ]
    }
   ],
   "source": [
    "%%timeit\n",
    "\n",
    "ms = df.apply(ols_sklearn_raw, axis=1, raw=True)\n",
    "result = pd.Series(ms)"
   ]
  },
  {
   "cell_type": "markdown",
   "id": "9cec00e4-1ebf-4210-abe7-8a9b597b5a7f",
   "metadata": {},
   "source": [
    "## NumPy + parallel_apply"
   ]
  },
  {
   "cell_type": "code",
   "execution_count": 18,
   "id": "02742e4c-3ce6-40b7-98bc-f7613b127006",
   "metadata": {},
   "outputs": [
    {
     "name": "stdout",
     "output_type": "stream",
     "text": [
      "258 ms ± 14.9 ms per loop (mean ± std. dev. of 7 runs, 1 loop each)\n"
     ]
    }
   ],
   "source": [
    "%%timeit\n",
    "\n",
    "ms = df.parallel_apply(ols_lstsq, axis=1)\n",
    "result = pd.Series(ms)"
   ]
  },
  {
   "cell_type": "markdown",
   "id": "51402585-fd40-4e0c-b3c0-3094eb632476",
   "metadata": {},
   "source": [
    "## NumPy + parallel_apply (raw=True)"
   ]
  },
  {
   "cell_type": "code",
   "execution_count": 15,
   "id": "1f78f36a-492d-4b66-a790-92bb39bfefc2",
   "metadata": {},
   "outputs": [
    {
     "name": "stdout",
     "output_type": "stream",
     "text": [
      "245 ms ± 8.84 ms per loop (mean ± std. dev. of 7 runs, 1 loop each)\n"
     ]
    }
   ],
   "source": [
    "%%timeit\n",
    "\n",
    "ms = df.parallel_apply(ols_lstsq_raw, axis=1, raw=True)\n",
    "result = pd.Series(ms)"
   ]
  },
  {
   "cell_type": "markdown",
   "id": "fe03d09f-dd0c-42b0-80c3-1c6cae984c8b",
   "metadata": {},
   "source": [
    "## NumPy + Transpose + apply"
   ]
  },
  {
   "cell_type": "code",
   "execution_count": 22,
   "id": "5dbc2d2b-568e-4b4a-9ae5-fd6ef5c9c2bf",
   "metadata": {},
   "outputs": [
    {
     "data": {
      "text/plain": [
       "0   -0.009935\n",
       "dtype: float64"
      ]
     },
     "execution_count": 22,
     "metadata": {},
     "output_type": "execute_result"
    }
   ],
   "source": [
    "ms"
   ]
  },
  {
   "cell_type": "code",
   "execution_count": null,
   "id": "3bd17965-83ae-4f4c-9eac-d570139f5193",
   "metadata": {},
   "outputs": [],
   "source": []
  }
 ],
 "metadata": {
  "kernelspec": {
   "display_name": "Python 3 (ipykernel)",
   "language": "python",
   "name": "python3"
  },
  "language_info": {
   "codemirror_mode": {
    "name": "ipython",
    "version": 3
   },
   "file_extension": ".py",
   "mimetype": "text/x-python",
   "name": "python",
   "nbconvert_exporter": "python",
   "pygments_lexer": "ipython3",
   "version": "3.9.10"
  }
 },
 "nbformat": 4,
 "nbformat_minor": 5
}
