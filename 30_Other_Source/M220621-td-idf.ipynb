{
 "cells": [
  {
   "cell_type": "code",
   "execution_count": 144,
   "id": "9419216e-6008-460f-a361-385bf21e6359",
   "metadata": {},
   "outputs": [
    {
     "name": "stdout",
     "output_type": "stream",
     "text": [
      "INFO: Pandarallel will run on 16 workers.\n",
      "INFO: Pandarallel will use Memory file system to transfer data between the main process and workers.\n"
     ]
    }
   ],
   "source": [
    "import os\n",
    "import json\n",
    "import itertools\n",
    "import re\n",
    "from collections import defaultdict, Counter\n",
    "\n",
    "import jieba\n",
    "import jieba.analyse as analyse\n",
    "\n",
    "from pandarallel import pandarallel\n",
    "pandarallel.initialize(progress_bar=True, nb_workers=16)"
   ]
  },
  {
   "cell_type": "code",
   "execution_count": 169,
   "id": "1cbcd427-7002-4629-996a-10b05a30adbf",
   "metadata": {},
   "outputs": [
    {
     "data": {
      "text/plain": [
       "2315"
      ]
     },
     "execution_count": 169,
     "metadata": {},
     "output_type": "execute_result"
    }
   ],
   "source": [
    "# 中文停用词列表\n",
    "chn_stop_words = set()\n",
    "\n",
    "for file in os.listdir('/data/daveting/other_project/explore/tfidf/stopwords'):\n",
    "    if '.txt' not in file: continue\n",
    "    with open(f'/data/daveting/other_project/explore/tfidf/stopwords/{file}', 'r') as f:\n",
    "        lst = f.readlines()\n",
    "        for w in lst: chn_stop_words.add(w.strip())\n",
    "\n",
    "STOP_WORDS = set((\n",
    "    \"the\", \"of\", \"is\", \"and\", \"to\", \"in\", \"that\", \"we\", \"for\", \"an\", \"are\",\n",
    "    \"by\", \"be\", \"as\", \"on\", \"with\", \"can\", \"if\", \"from\", \"which\", \"you\", \"it\",\n",
    "    \"this\", \"then\", \"at\", \"have\", \"all\", \"not\", \"one\", \"has\", \"or\", \"that\", \"http\", \"cn\"\n",
    "))\n",
    "\n",
    "for w in STOP_WORDS:\n",
    "    chn_stop_words.add(w)\n",
    "len(chn_stop_words)"
   ]
  },
  {
   "cell_type": "code",
   "execution_count": 186,
   "id": "1b2960ae-8e17-497b-a8a8-12e670719032",
   "metadata": {},
   "outputs": [],
   "source": [
    "def clean_cut(x, mode='nodup'):\n",
    "    if mode == 'nodup':\n",
    "        lst = set(jieba.lcut(x))\n",
    "    else:\n",
    "        lst = jieba.lcut(x)\n",
    "    return [w for w in lst if w not in chn_stop_words and re.search(u'[\\u4e00-\\u9fff0-9]', w)]\n",
    "\n",
    "# \\u4e00-\\u9fff 中文\n",
    "# a-zA-Z 英文\n",
    "# 0-9 数字"
   ]
  },
  {
   "cell_type": "code",
   "execution_count": 187,
   "id": "778ce14b-dd87-4637-ab3e-bf43df8e3b55",
   "metadata": {},
   "outputs": [],
   "source": [
    "def gen_idf(texts):\n",
    "    # 单线程\n",
    "    # cuts = [jieba.lcut(x) for x in texts]\n",
    "    \n",
    "    # 并行\n",
    "    cuts = pd.Series(texts).parallel_apply(clean_cut).values\n",
    "    \n",
    "    corpus_cnt = Counter(list(itertools.chain.from_iterable(cuts)))\n",
    "                \n",
    "    idf = {w: np.log(len(cuts) / (corpus_cnt[w] + 1)) for w in corpus_cnt.keys()}\n",
    "    return idf"
   ]
  },
  {
   "cell_type": "markdown",
   "id": "bdbd5fc5-591b-401b-b331-eb2927273574",
   "metadata": {},
   "source": [
    "$$\n",
    "idf = \\log(\\frac{文档数}{出现该词的文档数+1})\n",
    "$$"
   ]
  },
  {
   "cell_type": "code",
   "execution_count": 216,
   "id": "51b5d519-1068-4322-9d87-5e1f5ed66294",
   "metadata": {},
   "outputs": [
    {
     "data": {
      "text/plain": [
       "-1.6666652777853802e-06"
      ]
     },
     "execution_count": 216,
     "metadata": {},
     "output_type": "execute_result"
    },
    {
     "data": {
      "text/plain": [
       "0.0"
      ]
     },
     "execution_count": 216,
     "metadata": {},
     "output_type": "execute_result"
    }
   ],
   "source": [
    "np.log(600000 / 600001)  # 礼物\n",
    "np.log(100 / 100)  # 拓哉"
   ]
  },
  {
   "cell_type": "code",
   "execution_count": 218,
   "id": "1ac78865-c975-4404-8b02-00c8455f3e0e",
   "metadata": {},
   "outputs": [
    {
     "data": {
      "text/plain": [
       "241514.5344201816"
      ]
     },
     "execution_count": 218,
     "metadata": {},
     "output_type": "execute_result"
    }
   ],
   "source": [
    "600000 / np.exp(0.91) "
   ]
  },
  {
   "cell_type": "code",
   "execution_count": 188,
   "id": "8962ac26-2672-418c-8abf-d4e7d6d5a744",
   "metadata": {},
   "outputs": [],
   "source": [
    "def tfidf(sentence, idf, topK=5):\n",
    "    bow = Counter(clean_cut(sentence, mode='dup'))\n",
    "    cnt = sum(bow.values())\n",
    "    res = [(bow[w] / cnt * idf[w], w) for w in bow.keys() if w in idf]\n",
    "    res.sort(reverse=True)\n",
    "    return [(x[1], x[0]) for x in res[:topK]]"
   ]
  },
  {
   "cell_type": "markdown",
   "id": "3437278b-a00b-4d2f-9423-25dcaf3cb47e",
   "metadata": {},
   "source": [
    "# 木村拓哉"
   ]
  },
  {
   "cell_type": "code",
   "execution_count": 203,
   "id": "86e73fdf-d4b8-4f59-be06-19dbd6f86226",
   "metadata": {},
   "outputs": [
    {
     "data": {
      "text/plain": [
       "977"
      ]
     },
     "execution_count": 203,
     "metadata": {},
     "output_type": "execute_result"
    }
   ],
   "source": [
    "texts = []\n",
    "for root, dirs, files in os.walk(\"/data/daveting/other_project/ad_hoc/Tiger/2022_weibo_crawler/posts/6883966016/\"):\n",
    "    for name in files:\n",
    "        with open(os.path.join(root, name), 'r') as f:\n",
    "            s = json.load(f)\n",
    "        texts.append(s['text_raw'])\n",
    "        \n",
    "len(texts)"
   ]
  },
  {
   "cell_type": "code",
   "execution_count": 204,
   "id": "4cef3af7-5287-46db-a834-4f2e083f8d4c",
   "metadata": {},
   "outputs": [
    {
     "data": {
      "text/plain": [
       "['已经收到了祥君的礼物〜！谢谢🤙✨  拓哉 \\u200b\\u200b\\u200b',\n",
       " 'CM拍摄结束！很开心〜！👍✨ 拓哉 \\u200b\\u200b\\u200b',\n",
       " 'change‼️  TAK \\u200b\\u200b\\u200b',\n",
       " '早上好！今天的拍摄也要全力以赴……。希望，大家也是一样！ 拓哉 \\u200b\\u200b\\u200b',\n",
       " '啊〜‼️\\n用了肌肉〜❗️🤪✨ 拓哉 \\u200b\\u200b\\u200b']"
      ]
     },
     "execution_count": 204,
     "metadata": {},
     "output_type": "execute_result"
    }
   ],
   "source": [
    "texts[:5]"
   ]
  },
  {
   "cell_type": "code",
   "execution_count": 205,
   "id": "2fc67fed-88f4-4a42-8642-98a60da1b4cf",
   "metadata": {},
   "outputs": [
    {
     "data": {
      "application/vnd.jupyter.widget-view+json": {
       "model_id": "207087e2a32e43d987d4a64e8ba6ee44",
       "version_major": 2,
       "version_minor": 0
      },
      "text/plain": [
       "VBox(children=(HBox(children=(IntProgress(value=0, description='0.00%', max=62), Label(value='0 / 62'))), HBox…"
      ]
     },
     "metadata": {},
     "output_type": "display_data"
    },
    {
     "data": {
      "text/plain": [
       "0.7554364419822376"
      ]
     },
     "execution_count": 205,
     "metadata": {},
     "output_type": "execute_result"
    }
   ],
   "source": [
    "idf = gen_idf(texts)\n",
    "w = '拓哉'\n",
    "idf[w]"
   ]
  },
  {
   "cell_type": "code",
   "execution_count": 208,
   "id": "cfce43cb-1c0c-49e9-87aa-b5e67121849a",
   "metadata": {},
   "outputs": [
    {
     "data": {
      "text/plain": [
       "5.498192290922892"
      ]
     },
     "execution_count": 208,
     "metadata": {},
     "output_type": "execute_result"
    },
    {
     "data": {
      "text/plain": [
       "0.7554364419822376"
      ]
     },
     "execution_count": 208,
     "metadata": {},
     "output_type": "execute_result"
    }
   ],
   "source": [
    "idf['礼物']\n",
    "idf['拓哉']"
   ]
  },
  {
   "cell_type": "code",
   "execution_count": 211,
   "id": "9f2b016a-d5c3-415f-978a-3b1e71bf6b3b",
   "metadata": {},
   "outputs": [
    {
     "data": {
      "text/plain": [
       "[('了祥君', 0.6879266079425375),\n",
       " ('礼物', 0.610910254546988),\n",
       " ('收到', 0.5208068971896181),\n",
       " ('拓哉', 0.4196869122123542),\n",
       " ('谢谢', 0.3764421211751447)]"
      ]
     },
     "execution_count": 211,
     "metadata": {},
     "output_type": "execute_result"
    }
   ],
   "source": [
    "# DIY IDF\n",
    "tfidf(texts[0] + '拓哉拓哉拓哉拓哉', idf, topK=10)"
   ]
  },
  {
   "cell_type": "code",
   "execution_count": 200,
   "id": "a5168041-630c-4d93-8483-8948a0ab2a41",
   "metadata": {},
   "outputs": [
    {
     "data": {
      "text/plain": [
       "[('了祥君', 1.9924612504833332),\n",
       " ('拓哉', 1.9924612504833332),\n",
       " ('礼物', 1.2777111543766666),\n",
       " ('谢谢', 1.2287866223916668),\n",
       " ('收到', 1.1132620922983334),\n",
       " ('已经', 0.57009144094)]"
      ]
     },
     "execution_count": 200,
     "metadata": {},
     "output_type": "execute_result"
    }
   ],
   "source": [
    "# Default IDF\n",
    "analyse.extract_tags(texts[0], topK=10, withWeight=True)"
   ]
  },
  {
   "cell_type": "markdown",
   "id": "3d7fce4e-5b0f-461f-8733-055cc6a2999e",
   "metadata": {},
   "source": [
    "# 云南白药"
   ]
  },
  {
   "cell_type": "code",
   "execution_count": 212,
   "id": "26ed6836-328a-47ba-9774-36359ab35e2f",
   "metadata": {},
   "outputs": [
    {
     "data": {
      "text/plain": [
       "(1078359, 7)"
      ]
     },
     "execution_count": 212,
     "metadata": {},
     "output_type": "execute_result"
    },
    {
     "data": {
      "text/html": [
       "<div>\n",
       "<style scoped>\n",
       "    .dataframe tbody tr th:only-of-type {\n",
       "        vertical-align: middle;\n",
       "    }\n",
       "\n",
       "    .dataframe tbody tr th {\n",
       "        vertical-align: top;\n",
       "    }\n",
       "\n",
       "    .dataframe thead th {\n",
       "        text-align: right;\n",
       "    }\n",
       "</style>\n",
       "<table border=\"1\" class=\"dataframe\">\n",
       "  <thead>\n",
       "    <tr style=\"text-align: right;\">\n",
       "      <th></th>\n",
       "      <th>id</th>\n",
       "      <th>bid</th>\n",
       "      <th>zhengwen</th>\n",
       "      <th>zhuanfa</th>\n",
       "      <th>pinglun</th>\n",
       "      <th>dianzan</th>\n",
       "      <th>shijian</th>\n",
       "    </tr>\n",
       "  </thead>\n",
       "  <tbody>\n",
       "    <tr>\n",
       "      <th>0</th>\n",
       "      <td>3535607235832469</td>\n",
       "      <td>zeWj1oti5</td>\n",
       "      <td>感情是长在身上的一块肉，我很爱护这块肉，有天，你硬生生的割下这块肉，我很痛，眼泪和血都模糊了...</td>\n",
       "      <td>2</td>\n",
       "      <td>4</td>\n",
       "      <td>0.0</td>\n",
       "      <td>2013-01-17 23:51:00</td>\n",
       "    </tr>\n",
       "    <tr>\n",
       "      <th>1</th>\n",
       "      <td>3535245321834772</td>\n",
       "      <td>zeMTi7Hj6</td>\n",
       "      <td>话说我好像后知后觉的发现了一件不得了的事情。云南白药广告的主题歌“云南白药创可贴，伤口好得快...</td>\n",
       "      <td>0</td>\n",
       "      <td>0</td>\n",
       "      <td>0.0</td>\n",
       "      <td>2013-01-16 23:53:00</td>\n",
       "    </tr>\n",
       "  </tbody>\n",
       "</table>\n",
       "</div>"
      ],
      "text/plain": [
       "                 id        bid  \\\n",
       "0  3535607235832469  zeWj1oti5   \n",
       "1  3535245321834772  zeMTi7Hj6   \n",
       "\n",
       "                                            zhengwen zhuanfa pinglun  dianzan  \\\n",
       "0  感情是长在身上的一块肉，我很爱护这块肉，有天，你硬生生的割下这块肉，我很痛，眼泪和血都模糊了...       2       4      0.0   \n",
       "1  话说我好像后知后觉的发现了一件不得了的事情。云南白药广告的主题歌“云南白药创可贴，伤口好得快...       0       0      0.0   \n",
       "\n",
       "              shijian  \n",
       "0 2013-01-17 23:51:00  \n",
       "1 2013-01-16 23:53:00  "
      ]
     },
     "execution_count": 212,
     "metadata": {},
     "output_type": "execute_result"
    }
   ],
   "source": [
    "df = pd.read_csv('/data/daveting/other_project/explore/tfidf/weibo_posts_云南白药_2013_2019.csv', low_memory=False)\n",
    "df['shijian'] = pd.to_datetime(df['shijian'])\n",
    "df.shape\n",
    "df.head(2)"
   ]
  },
  {
   "cell_type": "code",
   "execution_count": 213,
   "id": "a2d86dfa-357a-40ee-b490-0ea7f574923c",
   "metadata": {},
   "outputs": [
    {
     "data": {
      "text/plain": [
       "(601253,)"
      ]
     },
     "execution_count": 213,
     "metadata": {},
     "output_type": "execute_result"
    }
   ],
   "source": [
    "tmp = df['zhengwen'].dropna().drop_duplicates()\n",
    "tmp.shape"
   ]
  },
  {
   "cell_type": "code",
   "execution_count": 214,
   "id": "6dcb95d2-8f7e-4b62-9832-d235acf1f31b",
   "metadata": {},
   "outputs": [
    {
     "data": {
      "application/vnd.jupyter.widget-view+json": {
       "model_id": "2bdd396ebf684e1490eaa8a9cb7ef850",
       "version_major": 2,
       "version_minor": 0
      },
      "text/plain": [
       "VBox(children=(HBox(children=(IntProgress(value=0, description='0.00%', max=37579), Label(value='0 / 37579')))…"
      ]
     },
     "metadata": {},
     "output_type": "display_data"
    }
   ],
   "source": [
    "idf = gen_idf(tmp.values)"
   ]
  },
  {
   "cell_type": "code",
   "execution_count": 220,
   "id": "65caafd6-e5eb-4147-9d18-62e8be5d404e",
   "metadata": {},
   "outputs": [
    {
     "data": {
      "text/plain": [
       "0.9110868579591743"
      ]
     },
     "execution_count": 220,
     "metadata": {},
     "output_type": "execute_result"
    },
    {
     "data": {
      "text/plain": [
       "6.050473850303969"
      ]
     },
     "execution_count": 220,
     "metadata": {},
     "output_type": "execute_result"
    },
    {
     "data": {
      "text/plain": [
       "4.443155331104031"
      ]
     },
     "execution_count": 220,
     "metadata": {},
     "output_type": "execute_result"
    },
    {
     "data": {
      "text/plain": [
       "4.770363679654608"
      ]
     },
     "execution_count": 220,
     "metadata": {},
     "output_type": "execute_result"
    }
   ],
   "source": [
    "idf['云南白药']\n",
    "idf['股价']\n",
    "idf['云南']\n",
    "idf['白药']"
   ]
  },
  {
   "cell_type": "code",
   "execution_count": 222,
   "id": "f143a1aa-1a61-48f2-acce-73fb110bf72e",
   "metadata": {},
   "outputs": [
    {
     "data": {
      "text/plain": [
       "(13841,)"
      ]
     },
     "execution_count": 222,
     "metadata": {},
     "output_type": "execute_result"
    },
    {
     "data": {
      "text/plain": [
       "68548    【云南白药正式承认其配方含断肠草之前对此讳莫如深】|中医讲究阴阳平衡以毒攻毒，是药三分毒。这...\n",
       "67195    #云南白药含断肠草#我只说一个事情，比云南白药含断肠草知名度更高的：火腿肠含亚硝酸钠详情:h...\n",
       "57795    发表了博文《云南白药中药守秘难解有毒质疑国家机密成挡箭牌》-云南白药中药守秘难解有毒质疑国家...\n",
       "Name: zhengwen, dtype: object"
      ]
     },
     "execution_count": 222,
     "metadata": {},
     "output_type": "execute_result"
    }
   ],
   "source": [
    "df2 = df.loc[df['shijian'].between(pd.to_datetime('2014-4-1'), pd.to_datetime('2014-4-20')), 'zhengwen'].dropna().drop_duplicates()\n",
    "df2.shape\n",
    "df2.sample(3)"
   ]
  },
  {
   "cell_type": "code",
   "execution_count": 223,
   "id": "86437f19-1d8d-49ce-90a6-cb8f2f445126",
   "metadata": {},
   "outputs": [
    {
     "data": {
      "text/plain": [
       "[('断肠草', 0.07794465723887414),\n",
       " ('含', 0.06708027737561896),\n",
       " ('配方', 0.054606919696410225),\n",
       " ('云南白药', 0.05254741777513055),\n",
       " ('草乌', 0.03699895559555723),\n",
       " ('成分', 0.032707275234727703),\n",
       " ('毒性', 0.03059372328422574),\n",
       " ('8sJF6bq', 0.02782037163972843),\n",
       " ('国家', 0.027022033671129764),\n",
       " ('公开', 0.024695028186425026)]"
      ]
     },
     "execution_count": 223,
     "metadata": {},
     "output_type": "execute_result"
    }
   ],
   "source": [
    "tfidf('\\n'.join(df2.values), idf, topK=10)"
   ]
  },
  {
   "cell_type": "code",
   "execution_count": 224,
   "id": "4819fb45-4194-4f17-b677-18e0765eea7c",
   "metadata": {},
   "outputs": [
    {
     "data": {
      "text/plain": [
       "(4930,)"
      ]
     },
     "execution_count": 224,
     "metadata": {},
     "output_type": "execute_result"
    },
    {
     "data": {
      "text/plain": [
       "680710    早上给胖子擦屁股，不知道怎么就出血了，一屁股血，吓得只想马上送她去医院。可是一堆逼逼歪歪的人...\n",
       "678677    老妈太拼，发过来的锅中藏药，这药是1990年的云南白药还有纱布，爷爷在卫生局工作时医院送的，...\n",
       "681315           上个班手机电脑看了一天了，眼睛👀好酸好累啊，赶快戴个云南白药眼罩睡觉觉了#叫我仙女#\n",
       "Name: zhengwen, dtype: object"
      ]
     },
     "execution_count": 224,
     "metadata": {},
     "output_type": "execute_result"
    }
   ],
   "source": [
    "df2 = df.loc[df['shijian'].between(pd.to_datetime('2016-12-1'), pd.to_datetime('2016-12-31')), 'zhengwen'].dropna().drop_duplicates()\n",
    "df2.shape\n",
    "df2.sample(3)"
   ]
  },
  {
   "cell_type": "code",
   "execution_count": 225,
   "id": "49a502f5-f7c0-41f9-a693-4f842842146b",
   "metadata": {},
   "outputs": [
    {
     "data": {
      "text/plain": [
       "[('云南白药', 0.04179077750735984),\n",
       " ('控股', 0.03850680925102201),\n",
       " ('混改', 0.035238800115016664),\n",
       " ('新华', 0.03357750254931906),\n",
       " ('漱口水', 0.02769692346611385),\n",
       " ('微商', 0.02395615686988324),\n",
       " ('白药', 0.02267237263057605),\n",
       " ('股权', 0.02261067240609939),\n",
       " ('眼罩', 0.02135390131733582),\n",
       " ('链接', 0.019501096933561914)]"
      ]
     },
     "execution_count": 225,
     "metadata": {},
     "output_type": "execute_result"
    }
   ],
   "source": [
    "tfidf('\\n'.join(df2.values), idf, topK=10)"
   ]
  },
  {
   "cell_type": "code",
   "execution_count": 228,
   "id": "51340e52-76f6-45ac-94cf-2ac10385a2e7",
   "metadata": {},
   "outputs": [
    {
     "data": {
      "text/plain": [
       "(10765,)"
      ]
     },
     "execution_count": 228,
     "metadata": {},
     "output_type": "execute_result"
    },
    {
     "data": {
      "text/plain": [
       "856587    云南白药配方不明，存在潜在隐患，应予以公布。可口可乐配方不明，存在潜在隐患，应予以公布。不过...\n",
       "847529    //@白菜活动分享大V:反馈还可以叠加云南白药牙膏满99减3049-48券可叠加资生堂99-...\n",
       "843665    //分享网易新闻:《女医生曝光云南白药牙膏含处方药疑似已经辞职》O女医生曝光云南白药牙膏含处...\n",
       "Name: zhengwen, dtype: object"
      ]
     },
     "execution_count": 228,
     "metadata": {},
     "output_type": "execute_result"
    }
   ],
   "source": [
    "df2 = df.loc[df['shijian'].between(pd.to_datetime('2018-10-20'), pd.to_datetime('2018-11-10')), 'zhengwen'].dropna().drop_duplicates()\n",
    "df2.shape\n",
    "df2.sample(3)"
   ]
  },
  {
   "cell_type": "code",
   "execution_count": 229,
   "id": "57f37544-718a-47ea-b4fe-8cd06ea74ab4",
   "metadata": {},
   "outputs": [
    {
     "data": {
      "text/plain": [
       "[('牙膏', 0.07854289646656587),\n",
       " ('环酸', 0.06194941791652266),\n",
       " ('成分', 0.05646593153151725),\n",
       " ('氨甲', 0.048081808935425845),\n",
       " ('云南白药', 0.0464573058578903),\n",
       " ('西药', 0.03898107454646201),\n",
       " ('止血', 0.03582830950885373),\n",
       " ('配方', 0.02922376238315701),\n",
       " ('添加', 0.027398042362447916),\n",
       " ('处方药', 0.02692016416067864)]"
      ]
     },
     "execution_count": 229,
     "metadata": {},
     "output_type": "execute_result"
    }
   ],
   "source": [
    "tfidf('\\n'.join(df2.values), idf, topK=10)"
   ]
  },
  {
   "cell_type": "code",
   "execution_count": null,
   "id": "e823247c-2efe-43dd-8a85-5d7424cefd55",
   "metadata": {},
   "outputs": [],
   "source": []
  }
 ],
 "metadata": {
  "kernelspec": {
   "display_name": "Python 3 (ipykernel)",
   "language": "python",
   "name": "python3"
  },
  "language_info": {
   "codemirror_mode": {
    "name": "ipython",
    "version": 3
   },
   "file_extension": ".py",
   "mimetype": "text/x-python",
   "name": "python",
   "nbconvert_exporter": "python",
   "pygments_lexer": "ipython3",
   "version": "3.9.13"
  },
  "toc-autonumbering": true
 },
 "nbformat": 4,
 "nbformat_minor": 5
}
